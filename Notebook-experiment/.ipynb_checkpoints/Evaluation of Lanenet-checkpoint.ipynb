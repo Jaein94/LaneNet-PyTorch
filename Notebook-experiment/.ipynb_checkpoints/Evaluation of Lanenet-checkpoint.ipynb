{
 "cells": [
  {
   "cell_type": "code",
   "execution_count": 1,
   "metadata": {},
   "outputs": [],
   "source": [
    "import json\n",
    "import os.path as ops\n",
    "import numpy as np\n",
    "import torch\n",
    "import cv2\n",
    "import time\n",
    "import os\n",
    "import matplotlib.pylab as plt\n",
    "import sys\n",
    "from tqdm import tqdm\n",
    "import imageio\n",
    "sys.path.append('..')\n",
    "from dataset.dataset_utils import TUSIMPLE\n",
    "from Lanenet.model2 import Lanenet\n",
    "from utils.evaluation import gray_to_rgb_emb, process_instance_embedding, video_to_clips"
   ]
  },
  {
   "cell_type": "markdown",
   "metadata": {},
   "source": [
    "# Load the Model"
   ]
  },
  {
   "cell_type": "code",
   "execution_count": 2,
   "metadata": {},
   "outputs": [
    {
     "data": {
      "text/plain": [
       "<All keys matched successfully>"
      ]
     },
     "execution_count": 2,
     "metadata": {},
     "output_type": "execute_result"
    }
   ],
   "source": [
    "model_path = '/Users/smiffy/Documents/GitHub/TUSIMPLE/Lanenet_output/lanenet_epoch_39_batch_8.model'\n",
    "LaneNet_model = Lanenet(2, 4)\n",
    "LaneNet_model.load_state_dict(torch.load(model_path, map_location=torch.device('cpu')))"
   ]
  },
  {
   "cell_type": "markdown",
   "metadata": {},
   "source": [
    "# Load the Test Dataset"
   ]
  },
  {
   "cell_type": "markdown",
   "metadata": {},
   "source": [
    "Test use TUSIMPLE test dataset ``clips`` and ``test_label.json`` and write the predit result in ``test_tasks_0627.json`` use the evaluation from TUSIMPLE dataset in ``utils/lane.py``"
   ]
  },
  {
   "cell_type": "markdown",
   "metadata": {},
   "source": [
    "write lanes and run_time to ``pred_result.json``"
   ]
  },
  {
   "cell_type": "code",
   "execution_count": 3,
   "metadata": {},
   "outputs": [],
   "source": [
    "pred_json_path = '/Users/smiffy/Documents/GitHub/TUSIMPLE/test_set/test_tasks_0627.json'\n",
    "json_pred = [json.loads(line) for line in open(pred_json_path).readlines()]"
   ]
  },
  {
   "cell_type": "code",
   "execution_count": 4,
   "metadata": {},
   "outputs": [
    {
     "name": "stderr",
     "output_type": "stream",
     "text": [
      "  0%|          | 0/2782 [00:03<?, ?it/s]\n"
     ]
    }
   ],
   "source": [
    "for i, sample in enumerate(tqdm(json_pred)):\n",
    "    h_samples = sample['h_samples']\n",
    "    lanes = sample['lanes']\n",
    "    run_time = sample['run_time']\n",
    "    raw_file = sample['raw_file']\n",
    "    img_path = ops.join('/Users/smiffy/Documents/GitHub/TUSIMPLE/test_set', raw_file)\n",
    "    # read the image\n",
    "    gt_img_org = cv2.imread(img_path, cv2.IMREAD_UNCHANGED)\n",
    "    org_shape = gt_img_org.shape\n",
    "    gt_image = cv2.resize(gt_img_org, dsize=(512, 256), interpolation=cv2.INTER_LINEAR)\n",
    "    gt_image = gt_image / 127.5 - 1.0\n",
    "    gt_image = torch.tensor(gt_image, dtype=torch.float)\n",
    "    gt_image = np.transpose(gt_image, (2, 0, 1))\n",
    "    # Go through the network\n",
    "    time_start=time.time()\n",
    "    binary_final_logits, instance_embedding = LaneNet_model(gt_image.unsqueeze(0))\n",
    "    time_end=time.time()\n",
    "    # Get the final embedding image\n",
    "    binary_img = torch.argmax(binary_final_logits, dim=1).squeeze().numpy()\n",
    "    binary_img[0:50,:] = 0\n",
    "    rbg_emb, cluster_result = process_instance_embedding(instance_embedding, binary_img,\n",
    "                                                             distance=1.5, lane_num=4)\n",
    "    cluster_result = cv2.resize(cluster_result, dsize=(org_shape[1], org_shape[0]), \n",
    "                                interpolation=cv2.INTER_NEAREST)\n",
    "    elements = np.unique(cluster_result)\n",
    "    for line_idx in elements:\n",
    "        if line_idx == 0:\n",
    "            continue\n",
    "        else:\n",
    "            mask = (cluster_result == line_idx)\n",
    "            select_mask = mask[h_samples]\n",
    "            row_result = []\n",
    "            for row in range(len(h_samples)):\n",
    "                col_indexes = np.nonzero(select_mask[row])[0]\n",
    "                if len(col_indexes) == 0:\n",
    "                    row_result.append(-2)\n",
    "                else:\n",
    "                    row_result.append(int(col_indexes.min() + (col_indexes.max()-col_indexes.min())/2))\n",
    "            json_pred[i]['lanes'].append(row_result)\n",
    "            json_pred[i]['run_time'] = time_end-time_start"
   ]
  },
  {
   "cell_type": "code",
   "execution_count": 5,
   "metadata": {},
   "outputs": [],
   "source": [
    "with open('/Users/smiffy/Documents/GitHub/TUSIMPLE/pred.json', 'w') as f:\n",
    "    json.dump(json_pred, f)"
   ]
  },
  {
   "cell_type": "markdown",
   "metadata": {},
   "source": [
    "# Evaluation using TUSIMPLE script"
   ]
  },
  {
   "cell_type": "code",
   "execution_count": 7,
   "metadata": {},
   "outputs": [],
   "source": [
    "from utils.lane import LaneEval"
   ]
  },
  {
   "cell_type": "code",
   "execution_count": null,
   "metadata": {},
   "outputs": [],
   "source": [
    "result = LaneEval.bench_one_submit('/Users/smiffy/Documents/GitHub/TUSIMPLE/pred.json',\n",
    "                         '/Users/smiffy/Documents/GitHub/TUSIMPLE/test_set/test_label.json')"
   ]
  },
  {
   "cell_type": "code",
   "execution_count": null,
   "metadata": {},
   "outputs": [],
   "source": []
  },
  {
   "cell_type": "code",
   "execution_count": null,
   "metadata": {},
   "outputs": [],
   "source": []
  },
  {
   "cell_type": "code",
   "execution_count": null,
   "metadata": {},
   "outputs": [],
   "source": []
  },
  {
   "cell_type": "code",
   "execution_count": null,
   "metadata": {},
   "outputs": [],
   "source": []
  },
  {
   "cell_type": "code",
   "execution_count": null,
   "metadata": {},
   "outputs": [],
   "source": []
  },
  {
   "cell_type": "code",
   "execution_count": null,
   "metadata": {},
   "outputs": [],
   "source": []
  },
  {
   "cell_type": "code",
   "execution_count": null,
   "metadata": {},
   "outputs": [],
   "source": []
  },
  {
   "cell_type": "code",
   "execution_count": null,
   "metadata": {},
   "outputs": [],
   "source": []
  },
  {
   "cell_type": "code",
   "execution_count": null,
   "metadata": {},
   "outputs": [],
   "source": []
  },
  {
   "cell_type": "code",
   "execution_count": null,
   "metadata": {},
   "outputs": [],
   "source": []
  },
  {
   "cell_type": "code",
   "execution_count": null,
   "metadata": {},
   "outputs": [],
   "source": []
  },
  {
   "cell_type": "code",
   "execution_count": null,
   "metadata": {},
   "outputs": [],
   "source": []
  },
  {
   "cell_type": "code",
   "execution_count": null,
   "metadata": {},
   "outputs": [],
   "source": []
  },
  {
   "cell_type": "code",
   "execution_count": null,
   "metadata": {},
   "outputs": [],
   "source": []
  },
  {
   "cell_type": "code",
   "execution_count": null,
   "metadata": {},
   "outputs": [],
   "source": []
  },
  {
   "cell_type": "code",
   "execution_count": null,
   "metadata": {},
   "outputs": [],
   "source": []
  },
  {
   "cell_type": "code",
   "execution_count": null,
   "metadata": {},
   "outputs": [],
   "source": []
  }
 ],
 "metadata": {
  "kernelspec": {
   "display_name": "Python 3",
   "language": "python",
   "name": "python3"
  },
  "language_info": {
   "codemirror_mode": {
    "name": "ipython",
    "version": 3
   },
   "file_extension": ".py",
   "mimetype": "text/x-python",
   "name": "python",
   "nbconvert_exporter": "python",
   "pygments_lexer": "ipython3",
   "version": "3.6.10"
  }
 },
 "nbformat": 4,
 "nbformat_minor": 2
}
